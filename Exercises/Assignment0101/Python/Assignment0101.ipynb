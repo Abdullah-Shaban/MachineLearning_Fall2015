{
 "worksheets": [
  {
   "cells": [
    {
     "cell_type": "code",
     "execution_count": null,
     "metadata": {},
     "outputs": [],
     "input": [
      "# Generic imports\n",
      "from __future__ import division, print_function\n",
      "from numpy import atleast_2d, nanmax, nanmin\n",
      "from pprint import pprint\n",
      "from os import chdir, path"
     ],
     "language": "python",
     "prompt_number": 13
    },
    {
     "cell_type": "code",
     "execution_count": null,
     "metadata": {},
     "outputs": [],
     "input": [
      "# Set up correct working directory\n",
      "\n",
      "# *** Change the following path to the corresponding path on your machine ***\n",
      "# ___________________________________________________________________________\n",
      "course_folder_path = '/Applications/Dropbox/MBAsLearningMachineLearning'\n",
      "# '/Applications/Dropbox/MBAsLearningMachineLearning'\n",
      "# 'C:/Cloud/Dropbox/MBAsLearningMachineLearning'\n",
      "# ___________________________________________________________________________\n",
      "\n",
      "assignments_subfolder_name = 'Assignments'\n",
      "this_assignment_subfolder_name = 'UCI ~ Human Activity Recognition Using Smartphones'\n",
      "python_subfolder_name = 'Python'\n",
      "\n",
      "chdir(path.join(course_folder_path, assignments_subfolder_name,\n",
      "                this_assignment_subfolder_name, python_subfolder_name))"
     ],
     "language": "python",
     "prompt_number": 2
    },
    {
     "cell_type": "code",
     "execution_count": null,
     "metadata": {},
     "outputs": [
      {
       "output_type": "stream",
       "stream": "stdout",
       "text": [
        "0\n1     tBodyAcc-mean()-X\n2     tBodyAcc-mean()-Y\n3     tBodyAcc-mean()-Z\n4      tBodyAcc-std()-X\n5      tBodyAcc-std()-Y\n6      tBodyAcc-std()-Z\n7      tBodyAcc-mad()-X\n8      tBodyAcc-mad()-Y\n9      tBodyAcc-mad()-Z\n10     tBodyAcc-max()-X\n11     tBodyAcc-max()-Y\n12     tBodyAcc-max()-Z\n13     tBodyAcc-min()-X\n14     tBodyAcc-min()-Y\n15     tBodyAcc-min()-Z\n...\n547              fBodyBodyGyroJerkMag-sma()\n548           fBodyBodyGyroJerkMag-energy()\n549              fBodyBodyGyroJerkMag-iqr()\n550          fBodyBodyGyroJerkMag-entropy()\n551            fBodyBodyGyroJerkMag-maxInds\n552         fBodyBodyGyroJerkMag-meanFreq()\n553         fBodyBodyGyroJerkMag-skewness()\n554         fBodyBodyGyroJerkMag-kurtosis()\n555             angle(tBodyAccMean,gravity)\n556    angle(tBodyAccJerkMean),gravityMean)\n557        angle(tBodyGyroMean,gravityMean)\n558    angle(tBodyGyroJerkMean,gravityMean)\n559                    angle(X,gravityMean)\n560                    angle(Y,gravityMean)\n561                    angle(Z,gravityMean)\nName: 1, Length: 561, dtype: object\n"
       ]
      }
     ],
     "input": [
      "# Import PARSE_DATA function\n",
      "from ParseData import parse_data\n",
      "\n",
      "# Parse the relevant data set\n",
      "data = parse_data()\n",
      "feature_names = data['feature_names']\n",
      "train_X = data['train_X']\n",
      "train_y = data['train_y']\n",
      "test_X = data['test_X']\n",
      "test_y = data['test_y']\n",
      "\n",
      "# View the names of the X features\n",
      "pprint(feature_names)"
     ],
     "language": "python",
     "prompt_number": 3
    },
    {
     "cell_type": "code",
     "execution_count": null,
     "metadata": {},
     "outputs": [
      {
       "output_type": "stream",
       "stream": "stdout",
       "text": [
        "Help on function newff in module neurolab.net:\n\nnewff(minmax, size, transf=None)\n    Create multilayer perceptron\n    \n    :Parameters:\n        minmax: list of list, the outer list is the number of input neurons, \n                        inner lists must contain 2 elements: min and max\n            Range of input value\n        size: the length of list equal to the number of layers except input layer, \n                        the element of the list is the neuron number for corresponding layer\n            Contains the number of neurons for each layer\n        transf: list (default TanSig)\n            List of activation function for each layer\n    :Returns:\n        net: Net\n    :Example:\n        >>> # create neural net with 2 inputs\n                >>> # input range for each input is [-0.5, 0.5]\n                >>> # 3 neurons for hidden layer, 1 neuron for output\n                >>> # 2 layers including hidden layer and output layer\n        >>> net = newff([[-0.5, 0.5], [-0.5, 0.5]], [3, 1])\n        >>> net.ci\n        2\n        >>> net.co\n        1\n        >>> len(net.layers)\n        2\n\n"
       ]
      }
     ],
     "input": [
      "from neurolab.net import newff\n",
      "from neurolab.train import train_rprop\n",
      "from neurolab.trans import LogSig, TanSig, SoftMax\n",
      "# (documentation: https://pythonhosted.org/neurolab)\n",
      "\n",
      "help(newff)"
     ],
     "language": "python",
     "prompt_number": 5
    },
    {
     "cell_type": "code",
     "execution_count": null,
     "metadata": {},
     "outputs": [
      {
       "output_type": "stream",
       "stream": "stdout",
       "text": [
        "[]\n"
       ]
      }
     ],
     "input": [
      "# calculate the minima and maxima of the input features in the Train set\n",
      "minmax = []\n",
      "for feature_name in feature_names:\n",
      "    m = nanmin(train_X[feature_name])\n",
      "    M = nanmax(train_X[feature_name])\n",
      "    minmax += [[m, M]]\n",
      "\n",
      "#print(len(minmax))\n",
      "print(minmax[0])\n",
      "print(minmax[1])\n",
      "# Create Feed-Forward Neural Network\n",
      "#ffnn = newff(\n",
      "#    layers=(Layer(type='Tanh', units=100),\n",
      "#            Layer(type='Softmax', units=6)),\n",
      "#    learning_rule='sgd',\n",
      "#    learning_rate=1e-2)\n",
      "\n",
      "#train_X_matrix = train_X.values\n",
      "#train_y_column_vector = atleast_2d(train_y.values).T\n",
      "#ffnn.fit(train_X_matrix, train_y_column_vector)"
     ],
     "language": "python",
     "prompt_number": 21
    },
    {
     "cell_type": "code",
     "execution_count": null,
     "metadata": {},
     "outputs": [
      {
       "output_type": "pyout",
       "prompt_number": 19,
       "text": [
        "sknn.mlp.Classifier"
       ],
       "metadata": {}
      }
     ],
     "input": [
      "type(ffnn)"
     ],
     "language": "python",
     "prompt_number": 19
    },
    {
     "cell_type": "code",
     "execution_count": null,
     "metadata": {},
     "outputs": [
      {
       "output_type": "pyout",
       "prompt_number": 33,
       "text": [
        "<bound method Series.as_matrix of 0     5\n1     5\n2     5\n3     5\n4     5\n5     5\n6     5\n7     5\n8     5\n9     5\n10    5\n11    5\n12    5\n13    5\n14    5\n...\n7337    2\n7338    2\n7339    2\n7340    2\n7341    2\n7342    2\n7343    2\n7344    2\n7345    2\n7346    2\n7347    2\n7348    2\n7349    2\n7350    2\n7351    2\nName: 0, Length: 7352, dtype: int64>"
       ],
       "metadata": {}
      }
     ],
     "input": [
      "train_y.as_matrix"
     ],
     "language": "python",
     "prompt_number": 33
    },
    {
     "cell_type": "code",
     "execution_count": null,
     "metadata": {},
     "outputs": [
      {
       "output_type": "pyout",
       "prompt_number": 23,
       "text": [
        "pandas.core.frame.DataFrame"
       ],
       "metadata": {}
      }
     ],
     "input": [
      "type(train_X)"
     ],
     "language": "python",
     "prompt_number": 23
    },
    {
     "cell_type": "code",
     "execution_count": null,
     "metadata": {},
     "outputs": [],
     "input": [
      ""
     ],
     "language": "python"
    }
   ]
  }
 ],
 "cells": [],
 "metadata": {},
 "nbformat": 3,
 "nbformat_minor": 0
}