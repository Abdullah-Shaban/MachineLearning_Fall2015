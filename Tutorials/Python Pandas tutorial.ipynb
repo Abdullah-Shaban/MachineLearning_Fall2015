{
 "cells": [
  {
   "cell_type": "markdown",
   "metadata": {},
   "source": [
    "# Pandas overview\n",
    "\n",
    "`pandas` is Python's data frame solution, very much analogous to R's popular `data.frame` and its advanced cousin `data.table`.\n",
    "\n",
    "The `pandas` website has an awesomely comprehensive and well-explained set of tutorials [here](http://pandas.pydata.org/pandas-docs/stable/tutorials.html).\n",
    "\n",
    "Below, we highlight some of the most popular features / functionalities of `pandas` data frames."
   ]
  },
  {
   "cell_type": "markdown",
   "metadata": {},
   "source": [
    "# "
   ]
  }
 ],
 "metadata": {
  "kernelspec": {
   "display_name": "Python 2",
   "language": "python",
   "name": "python2"
  },
  "language_info": {
   "codemirror_mode": {
    "name": "ipython",
    "version": 2
   },
   "file_extension": ".py",
   "mimetype": "text/x-python",
   "name": "python",
   "nbconvert_exporter": "python",
   "pygments_lexer": "ipython2",
   "version": "2.7.10"
  }
 },
 "nbformat": 4,
 "nbformat_minor": 0
}
