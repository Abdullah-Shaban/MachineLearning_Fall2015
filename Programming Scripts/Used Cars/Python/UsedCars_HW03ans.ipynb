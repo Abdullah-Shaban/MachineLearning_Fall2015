{
 "cells": [
  {
   "cell_type": "markdown",
   "metadata": {
    "collapsed": false
   },
   "source": [
    "# _import modules & set constants_"
   ]
  },
  {
   "cell_type": "code",
   "execution_count": 1,
   "metadata": {
    "collapsed": false
   },
   "outputs": [],
   "source": [
    "# enable in-line MatPlotLib\n",
    "%matplotlib inline"
   ]
  },
  {
   "cell_type": "code",
   "execution_count": 82,
   "metadata": {
    "collapsed": false
   },
   "outputs": [],
   "source": [
    "# import Python modules\n",
    "from __future__ import division, print_function\n",
    "from matplotlib import pyplot\n",
    "import multiprocessing\n",
    "import numpy\n",
    "import os\n",
    "import pandas\n",
    "from sklearn.cross_validation import cross_val_score, KFold, train_test_split\n",
    "from sklearn.ensemble import GradientBoostingRegressor, RandomForestRegressor"
   ]
  },
  {
   "cell_type": "code",
   "execution_count": 12,
   "metadata": {
    "collapsed": true
   },
   "outputs": [],
   "source": [
    "# set CONSTANTS\n",
    "\n",
    "# using AWS EMR?\n",
    "AWS_EMR_MODE = os.path.expanduser('~') == '/home/hadoop'\n",
    "\n",
    "# data paths\n",
    "DATA_FILE_NAME = 'UsedCars.csv'\n",
    "DATA_URL = 'https://raw.githubusercontent.com/ChicagoBoothML/DATA___UsedCars/master/%s' % DATA_FILE_NAME\n",
    "\n",
    "# number of examples to display from a data set\n",
    "NB_EXAMPLES_TO_SHOW = 9\n",
    "\n",
    "# random seed\n",
    "RANDOM_SEED = 99"
   ]
  },
  {
   "cell_type": "code",
   "execution_count": 6,
   "metadata": {
    "collapsed": true
   },
   "outputs": [],
   "source": [
    "# install ChicagoBoothML_Helpy\n",
    "CHICAGOBOOTHML_HELPY_INSTALLATION_COMMAND = \\\n",
    "    'pip install --upgrade git+git://GitHub.com/ChicagoBoothML/Helpy --no-dependencies'\n",
    "if AWS_EMR_MODE:\n",
    "    os.system('sudo %s' % CHICAGOBOOTHML_HELPY_INSTALLATION_COMMAND)\n",
    "else:\n",
    "    os.system(CHICAGOBOOTHML_HELPY_INSTALLATION_COMMAND)\n",
    "    \n",
    "# import from package\n",
    "from ChicagoBoothML_Helpy.EvaluationMetrics import mse, rmse"
   ]
  },
  {
   "cell_type": "markdown",
   "metadata": {},
   "source": [
    "# import Used Cars data set"
   ]
  },
  {
   "cell_type": "code",
   "execution_count": 13,
   "metadata": {
    "collapsed": false
   },
   "outputs": [
    {
     "data": {
      "text/html": [
       "<div>\n",
       "<table border=\"1\" class=\"dataframe\">\n",
       "  <thead>\n",
       "    <tr style=\"text-align: right;\">\n",
       "      <th></th>\n",
       "      <th>price</th>\n",
       "      <th>trim</th>\n",
       "      <th>isOneOwner</th>\n",
       "      <th>mileage</th>\n",
       "      <th>year</th>\n",
       "      <th>color</th>\n",
       "      <th>displacement</th>\n",
       "      <th>fuel</th>\n",
       "      <th>region</th>\n",
       "      <th>soundSystem</th>\n",
       "      <th>wheelType</th>\n",
       "    </tr>\n",
       "  </thead>\n",
       "  <tbody>\n",
       "    <tr>\n",
       "      <th>0</th>\n",
       "      <td>2988</td>\n",
       "      <td>320</td>\n",
       "      <td>f</td>\n",
       "      <td>193296</td>\n",
       "      <td>1995</td>\n",
       "      <td>Black</td>\n",
       "      <td>3.2</td>\n",
       "      <td>Gasoline</td>\n",
       "      <td>SoA</td>\n",
       "      <td>unsp</td>\n",
       "      <td>Alloy</td>\n",
       "    </tr>\n",
       "    <tr>\n",
       "      <th>1</th>\n",
       "      <td>6595</td>\n",
       "      <td>320</td>\n",
       "      <td>f</td>\n",
       "      <td>129948</td>\n",
       "      <td>1995</td>\n",
       "      <td>other</td>\n",
       "      <td>3.2</td>\n",
       "      <td>Gasoline</td>\n",
       "      <td>Mid</td>\n",
       "      <td>Premium</td>\n",
       "      <td>Alloy</td>\n",
       "    </tr>\n",
       "    <tr>\n",
       "      <th>2</th>\n",
       "      <td>7993</td>\n",
       "      <td>320</td>\n",
       "      <td>f</td>\n",
       "      <td>140428</td>\n",
       "      <td>1997</td>\n",
       "      <td>White</td>\n",
       "      <td>3.2</td>\n",
       "      <td>Gasoline</td>\n",
       "      <td>Mid</td>\n",
       "      <td>Bose</td>\n",
       "      <td>Alloy</td>\n",
       "    </tr>\n",
       "    <tr>\n",
       "      <th>3</th>\n",
       "      <td>5995</td>\n",
       "      <td>420</td>\n",
       "      <td>f</td>\n",
       "      <td>113622</td>\n",
       "      <td>1999</td>\n",
       "      <td>Silver</td>\n",
       "      <td>4.2</td>\n",
       "      <td>Gasoline</td>\n",
       "      <td>Mid</td>\n",
       "      <td>unsp</td>\n",
       "      <td>Alloy</td>\n",
       "    </tr>\n",
       "    <tr>\n",
       "      <th>4</th>\n",
       "      <td>3000</td>\n",
       "      <td>420</td>\n",
       "      <td>f</td>\n",
       "      <td>167673</td>\n",
       "      <td>1999</td>\n",
       "      <td>Silver</td>\n",
       "      <td>4.2</td>\n",
       "      <td>Gasoline</td>\n",
       "      <td>SoA</td>\n",
       "      <td>unsp</td>\n",
       "      <td>Alloy</td>\n",
       "    </tr>\n",
       "    <tr>\n",
       "      <th>5</th>\n",
       "      <td>7400</td>\n",
       "      <td>430</td>\n",
       "      <td>f</td>\n",
       "      <td>82419</td>\n",
       "      <td>2002</td>\n",
       "      <td>White</td>\n",
       "      <td>4.3</td>\n",
       "      <td>Gasoline</td>\n",
       "      <td>Mid</td>\n",
       "      <td>Bose</td>\n",
       "      <td>Alloy</td>\n",
       "    </tr>\n",
       "    <tr>\n",
       "      <th>6</th>\n",
       "      <td>10850</td>\n",
       "      <td>430</td>\n",
       "      <td>f</td>\n",
       "      <td>101264</td>\n",
       "      <td>2000</td>\n",
       "      <td>White</td>\n",
       "      <td>4.3</td>\n",
       "      <td>Gasoline</td>\n",
       "      <td>SoA</td>\n",
       "      <td>unsp</td>\n",
       "      <td>unsp</td>\n",
       "    </tr>\n",
       "    <tr>\n",
       "      <th>7</th>\n",
       "      <td>8990</td>\n",
       "      <td>430</td>\n",
       "      <td>f</td>\n",
       "      <td>110651</td>\n",
       "      <td>2001</td>\n",
       "      <td>Black</td>\n",
       "      <td>4.3</td>\n",
       "      <td>Gasoline</td>\n",
       "      <td>SoA</td>\n",
       "      <td>unsp</td>\n",
       "      <td>Alloy</td>\n",
       "    </tr>\n",
       "    <tr>\n",
       "      <th>8</th>\n",
       "      <td>7950</td>\n",
       "      <td>430</td>\n",
       "      <td>f</td>\n",
       "      <td>108173</td>\n",
       "      <td>2000</td>\n",
       "      <td>Silver</td>\n",
       "      <td>4.3</td>\n",
       "      <td>Gasoline</td>\n",
       "      <td>ESC</td>\n",
       "      <td>Bose</td>\n",
       "      <td>unsp</td>\n",
       "    </tr>\n",
       "  </tbody>\n",
       "</table>\n",
       "</div>"
      ],
      "text/plain": [
       "   price trim isOneOwner  mileage  year   color  displacement      fuel  \\\n",
       "0   2988  320          f   193296  1995   Black           3.2  Gasoline   \n",
       "1   6595  320          f   129948  1995   other           3.2  Gasoline   \n",
       "2   7993  320          f   140428  1997   White           3.2  Gasoline   \n",
       "3   5995  420          f   113622  1999  Silver           4.2  Gasoline   \n",
       "4   3000  420          f   167673  1999  Silver           4.2  Gasoline   \n",
       "5   7400  430          f    82419  2002   White           4.3  Gasoline   \n",
       "6  10850  430          f   101264  2000   White           4.3  Gasoline   \n",
       "7   8990  430          f   110651  2001   Black           4.3  Gasoline   \n",
       "8   7950  430          f   108173  2000  Silver           4.3  Gasoline   \n",
       "\n",
       "  region soundSystem wheelType  \n",
       "0    SoA        unsp     Alloy  \n",
       "1    Mid     Premium     Alloy  \n",
       "2    Mid        Bose     Alloy  \n",
       "3    Mid        unsp     Alloy  \n",
       "4    SoA        unsp     Alloy  \n",
       "5    Mid        Bose     Alloy  \n",
       "6    SoA        unsp      unsp  \n",
       "7    SoA        unsp     Alloy  \n",
       "8    ESC        Bose      unsp  "
      ]
     },
     "execution_count": 13,
     "metadata": {},
     "output_type": "execute_result"
    }
   ],
   "source": [
    "# read Used Cars data into data frame\n",
    "used_cars_df = \\\n",
    "    pandas.read_csv(\n",
    "        DATA_URL,\n",
    "        dtype=dict(\n",
    "            price=float,\n",
    "            trim=pandas.Categorical,\n",
    "            isOneOwner=pandas.Categorical,\n",
    "            mileage=float,\n",
    "            year=float,\n",
    "            color=pandas.Categorical,\n",
    "            displacement=float,\n",
    "            fuel=pandas.Categorical,\n",
    "            region=pandas.Categorical,\n",
    "            soundSystem=pandas.Categorical,\n",
    "            wheelType=pandas.Categorical))\n",
    "\n",
    "used_cars_df[:NB_EXAMPLES_TO_SHOW]"
   ]
  },
  {
   "cell_type": "markdown",
   "metadata": {
    "collapsed": true
   },
   "source": [
    "Let's now split the data set into a Training set for fitting models and a Test set for evaluating them:\n",
    "\n",
    "_(**note**: here we shall skip splitting a Validation set because we can use Out-of-Bag and Cross Validation RMSE estimates)_"
   ]
  },
  {
   "cell_type": "code",
   "execution_count": 15,
   "metadata": {
    "collapsed": false
   },
   "outputs": [],
   "source": [
    "used_cars_train_df, used_cars_test_df = \\\n",
    "    train_test_split(\n",
    "        used_cars_df,\n",
    "        train_size=.8,\n",
    "        random_state=RANDOM_SEED)"
   ]
  },
  {
   "cell_type": "code",
   "execution_count": 17,
   "metadata": {
    "collapsed": false
   },
   "outputs": [
    {
     "data": {
      "text/html": [
       "<div>\n",
       "<table border=\"1\" class=\"dataframe\">\n",
       "  <thead>\n",
       "    <tr style=\"text-align: right;\">\n",
       "      <th></th>\n",
       "      <th>price</th>\n",
       "      <th>trim</th>\n",
       "      <th>isOneOwner</th>\n",
       "      <th>mileage</th>\n",
       "      <th>year</th>\n",
       "      <th>color</th>\n",
       "      <th>displacement</th>\n",
       "      <th>fuel</th>\n",
       "      <th>region</th>\n",
       "      <th>soundSystem</th>\n",
       "      <th>wheelType</th>\n",
       "    </tr>\n",
       "  </thead>\n",
       "  <tbody>\n",
       "    <tr>\n",
       "      <th>17246</th>\n",
       "      <td>15000</td>\n",
       "      <td>430</td>\n",
       "      <td>f</td>\n",
       "      <td>83072</td>\n",
       "      <td>2005</td>\n",
       "      <td>Silver</td>\n",
       "      <td>4.3</td>\n",
       "      <td>Gasoline</td>\n",
       "      <td>SoA</td>\n",
       "      <td>unsp</td>\n",
       "      <td>Alloy</td>\n",
       "    </tr>\n",
       "    <tr>\n",
       "      <th>12228</th>\n",
       "      <td>33900</td>\n",
       "      <td>550</td>\n",
       "      <td>t</td>\n",
       "      <td>33976</td>\n",
       "      <td>2007</td>\n",
       "      <td>Silver</td>\n",
       "      <td>5.5</td>\n",
       "      <td>Gasoline</td>\n",
       "      <td>SoA</td>\n",
       "      <td>Harman Kardon</td>\n",
       "      <td>Alloy</td>\n",
       "    </tr>\n",
       "    <tr>\n",
       "      <th>6267</th>\n",
       "      <td>51995</td>\n",
       "      <td>550</td>\n",
       "      <td>t</td>\n",
       "      <td>16399</td>\n",
       "      <td>2013</td>\n",
       "      <td>unsp</td>\n",
       "      <td>4.6</td>\n",
       "      <td>Gasoline</td>\n",
       "      <td>Mid</td>\n",
       "      <td>Harman Kardon</td>\n",
       "      <td>Alloy</td>\n",
       "    </tr>\n",
       "    <tr>\n",
       "      <th>14924</th>\n",
       "      <td>58995</td>\n",
       "      <td>550</td>\n",
       "      <td>f</td>\n",
       "      <td>17000</td>\n",
       "      <td>2012</td>\n",
       "      <td>Black</td>\n",
       "      <td>4.6</td>\n",
       "      <td>Gasoline</td>\n",
       "      <td>New</td>\n",
       "      <td>Premium</td>\n",
       "      <td>Alloy</td>\n",
       "    </tr>\n",
       "    <tr>\n",
       "      <th>9499</th>\n",
       "      <td>30980</td>\n",
       "      <td>550</td>\n",
       "      <td>f</td>\n",
       "      <td>57514</td>\n",
       "      <td>2008</td>\n",
       "      <td>White</td>\n",
       "      <td>5.5</td>\n",
       "      <td>Gasoline</td>\n",
       "      <td>Pac</td>\n",
       "      <td>Harman Kardon</td>\n",
       "      <td>unsp</td>\n",
       "    </tr>\n",
       "    <tr>\n",
       "      <th>15656</th>\n",
       "      <td>17750</td>\n",
       "      <td>430</td>\n",
       "      <td>f</td>\n",
       "      <td>44087</td>\n",
       "      <td>2006</td>\n",
       "      <td>Blue</td>\n",
       "      <td>4.3</td>\n",
       "      <td>Gasoline</td>\n",
       "      <td>ENC</td>\n",
       "      <td>unsp</td>\n",
       "      <td>Alloy</td>\n",
       "    </tr>\n",
       "    <tr>\n",
       "      <th>14082</th>\n",
       "      <td>30850</td>\n",
       "      <td>550</td>\n",
       "      <td>f</td>\n",
       "      <td>71020</td>\n",
       "      <td>2007</td>\n",
       "      <td>unsp</td>\n",
       "      <td>5.5</td>\n",
       "      <td>Gasoline</td>\n",
       "      <td>Mid</td>\n",
       "      <td>unsp</td>\n",
       "      <td>unsp</td>\n",
       "    </tr>\n",
       "    <tr>\n",
       "      <th>1317</th>\n",
       "      <td>32995</td>\n",
       "      <td>550</td>\n",
       "      <td>f</td>\n",
       "      <td>82364</td>\n",
       "      <td>2008</td>\n",
       "      <td>other</td>\n",
       "      <td>5.5</td>\n",
       "      <td>Gasoline</td>\n",
       "      <td>WSC</td>\n",
       "      <td>unsp</td>\n",
       "      <td>Alloy</td>\n",
       "    </tr>\n",
       "    <tr>\n",
       "      <th>11422</th>\n",
       "      <td>10990</td>\n",
       "      <td>500</td>\n",
       "      <td>f</td>\n",
       "      <td>91577</td>\n",
       "      <td>2002</td>\n",
       "      <td>Silver</td>\n",
       "      <td>5.0</td>\n",
       "      <td>Gasoline</td>\n",
       "      <td>SoA</td>\n",
       "      <td>Bose</td>\n",
       "      <td>unsp</td>\n",
       "    </tr>\n",
       "  </tbody>\n",
       "</table>\n",
       "</div>"
      ],
      "text/plain": [
       "       price trim isOneOwner  mileage  year   color  displacement      fuel  \\\n",
       "17246  15000  430          f    83072  2005  Silver           4.3  Gasoline   \n",
       "12228  33900  550          t    33976  2007  Silver           5.5  Gasoline   \n",
       "6267   51995  550          t    16399  2013    unsp           4.6  Gasoline   \n",
       "14924  58995  550          f    17000  2012   Black           4.6  Gasoline   \n",
       "9499   30980  550          f    57514  2008   White           5.5  Gasoline   \n",
       "15656  17750  430          f    44087  2006    Blue           4.3  Gasoline   \n",
       "14082  30850  550          f    71020  2007    unsp           5.5  Gasoline   \n",
       "1317   32995  550          f    82364  2008   other           5.5  Gasoline   \n",
       "11422  10990  500          f    91577  2002  Silver           5.0  Gasoline   \n",
       "\n",
       "      region    soundSystem wheelType  \n",
       "17246    SoA           unsp     Alloy  \n",
       "12228    SoA  Harman Kardon     Alloy  \n",
       "6267     Mid  Harman Kardon     Alloy  \n",
       "14924    New        Premium     Alloy  \n",
       "9499     Pac  Harman Kardon      unsp  \n",
       "15656    ENC           unsp     Alloy  \n",
       "14082    Mid           unsp      unsp  \n",
       "1317     WSC           unsp     Alloy  \n",
       "11422    SoA           Bose      unsp  "
      ]
     },
     "execution_count": 17,
     "metadata": {},
     "output_type": "execute_result"
    }
   ],
   "source": [
    "used_cars_train_df[:NB_EXAMPLES_TO_SHOW]"
   ]
  },
  {
   "cell_type": "code",
   "execution_count": 18,
   "metadata": {
    "collapsed": false
   },
   "outputs": [
    {
     "data": {
      "text/html": [
       "<div>\n",
       "<table border=\"1\" class=\"dataframe\">\n",
       "  <thead>\n",
       "    <tr style=\"text-align: right;\">\n",
       "      <th></th>\n",
       "      <th>price</th>\n",
       "      <th>trim</th>\n",
       "      <th>isOneOwner</th>\n",
       "      <th>mileage</th>\n",
       "      <th>year</th>\n",
       "      <th>color</th>\n",
       "      <th>displacement</th>\n",
       "      <th>fuel</th>\n",
       "      <th>region</th>\n",
       "      <th>soundSystem</th>\n",
       "      <th>wheelType</th>\n",
       "    </tr>\n",
       "  </thead>\n",
       "  <tbody>\n",
       "    <tr>\n",
       "      <th>1203</th>\n",
       "      <td>56444</td>\n",
       "      <td>550</td>\n",
       "      <td>f</td>\n",
       "      <td>26334</td>\n",
       "      <td>2013</td>\n",
       "      <td>White</td>\n",
       "      <td>4.6</td>\n",
       "      <td>Gasoline</td>\n",
       "      <td>WSC</td>\n",
       "      <td>unsp</td>\n",
       "      <td>unsp</td>\n",
       "    </tr>\n",
       "    <tr>\n",
       "      <th>11046</th>\n",
       "      <td>68290</td>\n",
       "      <td>550</td>\n",
       "      <td>f</td>\n",
       "      <td>15367</td>\n",
       "      <td>2012</td>\n",
       "      <td>Black</td>\n",
       "      <td>4.6</td>\n",
       "      <td>Gasoline</td>\n",
       "      <td>SoA</td>\n",
       "      <td>Harman Kardon</td>\n",
       "      <td>Alloy</td>\n",
       "    </tr>\n",
       "    <tr>\n",
       "      <th>3054</th>\n",
       "      <td>10995</td>\n",
       "      <td>430</td>\n",
       "      <td>f</td>\n",
       "      <td>116733</td>\n",
       "      <td>2004</td>\n",
       "      <td>Silver</td>\n",
       "      <td>4.3</td>\n",
       "      <td>Gasoline</td>\n",
       "      <td>WSC</td>\n",
       "      <td>unsp</td>\n",
       "      <td>unsp</td>\n",
       "    </tr>\n",
       "    <tr>\n",
       "      <th>19279</th>\n",
       "      <td>60992</td>\n",
       "      <td>550</td>\n",
       "      <td>t</td>\n",
       "      <td>25809</td>\n",
       "      <td>2012</td>\n",
       "      <td>Black</td>\n",
       "      <td>4.6</td>\n",
       "      <td>Gasoline</td>\n",
       "      <td>SoA</td>\n",
       "      <td>unsp</td>\n",
       "      <td>unsp</td>\n",
       "    </tr>\n",
       "    <tr>\n",
       "      <th>3035</th>\n",
       "      <td>35862</td>\n",
       "      <td>400</td>\n",
       "      <td>f</td>\n",
       "      <td>75989</td>\n",
       "      <td>2010</td>\n",
       "      <td>White</td>\n",
       "      <td>3.5</td>\n",
       "      <td>Hybrid</td>\n",
       "      <td>SoA</td>\n",
       "      <td>Harman Kardon</td>\n",
       "      <td>Alloy</td>\n",
       "    </tr>\n",
       "    <tr>\n",
       "      <th>4894</th>\n",
       "      <td>49492</td>\n",
       "      <td>550</td>\n",
       "      <td>f</td>\n",
       "      <td>17232</td>\n",
       "      <td>2010</td>\n",
       "      <td>Gray</td>\n",
       "      <td>5.5</td>\n",
       "      <td>Gasoline</td>\n",
       "      <td>WSC</td>\n",
       "      <td>Premium</td>\n",
       "      <td>Alloy</td>\n",
       "    </tr>\n",
       "    <tr>\n",
       "      <th>10913</th>\n",
       "      <td>10995</td>\n",
       "      <td>55 AMG</td>\n",
       "      <td>f</td>\n",
       "      <td>136105</td>\n",
       "      <td>2002</td>\n",
       "      <td>Silver</td>\n",
       "      <td>5.4</td>\n",
       "      <td>Gasoline</td>\n",
       "      <td>Pac</td>\n",
       "      <td>Bose</td>\n",
       "      <td>Alloy</td>\n",
       "    </tr>\n",
       "    <tr>\n",
       "      <th>8583</th>\n",
       "      <td>53995</td>\n",
       "      <td>550</td>\n",
       "      <td>f</td>\n",
       "      <td>24482</td>\n",
       "      <td>2013</td>\n",
       "      <td>White</td>\n",
       "      <td>4.6</td>\n",
       "      <td>Gasoline</td>\n",
       "      <td>Mid</td>\n",
       "      <td>unsp</td>\n",
       "      <td>unsp</td>\n",
       "    </tr>\n",
       "    <tr>\n",
       "      <th>13134</th>\n",
       "      <td>15495</td>\n",
       "      <td>430</td>\n",
       "      <td>f</td>\n",
       "      <td>78491</td>\n",
       "      <td>2005</td>\n",
       "      <td>White</td>\n",
       "      <td>4.3</td>\n",
       "      <td>Gasoline</td>\n",
       "      <td>SoA</td>\n",
       "      <td>unsp</td>\n",
       "      <td>unsp</td>\n",
       "    </tr>\n",
       "  </tbody>\n",
       "</table>\n",
       "</div>"
      ],
      "text/plain": [
       "       price    trim isOneOwner  mileage  year   color  displacement  \\\n",
       "1203   56444     550          f    26334  2013   White           4.6   \n",
       "11046  68290     550          f    15367  2012   Black           4.6   \n",
       "3054   10995     430          f   116733  2004  Silver           4.3   \n",
       "19279  60992     550          t    25809  2012   Black           4.6   \n",
       "3035   35862     400          f    75989  2010   White           3.5   \n",
       "4894   49492     550          f    17232  2010    Gray           5.5   \n",
       "10913  10995  55 AMG          f   136105  2002  Silver           5.4   \n",
       "8583   53995     550          f    24482  2013   White           4.6   \n",
       "13134  15495     430          f    78491  2005   White           4.3   \n",
       "\n",
       "           fuel region    soundSystem wheelType  \n",
       "1203   Gasoline    WSC           unsp      unsp  \n",
       "11046  Gasoline    SoA  Harman Kardon     Alloy  \n",
       "3054   Gasoline    WSC           unsp      unsp  \n",
       "19279  Gasoline    SoA           unsp      unsp  \n",
       "3035     Hybrid    SoA  Harman Kardon     Alloy  \n",
       "4894   Gasoline    WSC        Premium     Alloy  \n",
       "10913  Gasoline    Pac           Bose     Alloy  \n",
       "8583   Gasoline    Mid           unsp      unsp  \n",
       "13134  Gasoline    SoA           unsp      unsp  "
      ]
     },
     "execution_count": 18,
     "metadata": {},
     "output_type": "execute_result"
    }
   ],
   "source": [
    "used_cars_test_df[:NB_EXAMPLES_TO_SHOW]"
   ]
  },
  {
   "cell_type": "markdown",
   "metadata": {},
   "source": [
    "To sanity-check, let's plot the distributions of the _price_ variable in the 3 data sets:"
   ]
  },
  {
   "cell_type": "code",
   "execution_count": 19,
   "metadata": {
    "collapsed": false
   },
   "outputs": [
    {
     "data": {
      "text/plain": [
       "<matplotlib.text.Text at 0x7fdc626ab390>"
      ]
     },
     "execution_count": 19,
     "metadata": {},
     "output_type": "execute_result"
    },
    {
     "data": {
      "image/png": "[encoded data removed]",
      "text/plain": [
       "<matplotlib.figure.Figure at 0x7fdc65d28710>"
      ]
     },
     "metadata": {},
     "output_type": "display_data"
    }
   ],
   "source": [
    "pyplot.hist(list(used_cars_df.price))\n",
    "pyplot.title('Distribution of PRICE in all samples')"
   ]
  },
  {
   "cell_type": "code",
   "execution_count": 21,
   "metadata": {
    "collapsed": false
   },
   "outputs": [
    {
     "data": {
      "text/plain": [
       "<matplotlib.text.Text at 0x7fdc627d3bd0>"
      ]
     },
     "execution_count": 21,
     "metadata": {},
     "output_type": "execute_result"
    },
    {
     "data": {
      "image/png": "[encoded data removed]",
      "text/plain": [
       "<matplotlib.figure.Figure at 0x7fdc634e3390>"
      ]
     },
     "metadata": {},
     "output_type": "display_data"
    }
   ],
   "source": [
    "pyplot.hist(list(used_cars_train_df.price))\n",
    "pyplot.title('Distribution of PRICE in Training samples')"
   ]
  },
  {
   "cell_type": "code",
   "execution_count": 22,
   "metadata": {
    "collapsed": false
   },
   "outputs": [
    {
     "data": {
      "text/plain": [
       "<matplotlib.text.Text at 0x7fdc624f4110>"
      ]
     },
     "execution_count": 22,
     "metadata": {},
     "output_type": "execute_result"
    },
    {
     "data": {
      "image/png": "[encoded data removed]",
      "text/plain": [
       "<matplotlib.figure.Figure at 0x7fdc63514d50>"
      ]
     },
     "metadata": {},
     "output_type": "display_data"
    }
   ],
   "source": [
    "pyplot.hist(list(used_cars_test_df.price))\n",
    "pyplot.title('Distribution of PRICE in Test samples')"
   ]
  },
  {
   "cell_type": "markdown",
   "metadata": {},
   "source": [
    "# Random Forest models"
   ]
  },
  {
   "cell_type": "code",
   "execution_count": 24,
   "metadata": {
    "collapsed": false
   },
   "outputs": [],
   "source": [
    "B = 300\n",
    "\n",
    "rf_model = \\\n",
    "    RandomForestRegressor(\n",
    "        n_estimators=B,\n",
    "        criterion='mse',\n",
    "        max_depth=None,   # expand until all leaves are pure or contain < MIN_SAMPLES_SPLIT samples\n",
    "        min_samples_split=60,\n",
    "        min_samples_leaf=30,\n",
    "        min_weight_fraction_leaf=0.0,\n",
    "        max_features='auto',   # number of features to consider when looking for the best split; \"auto\": max_features=n_features\n",
    "        max_leaf_nodes=None,   # None: unlimited number of leaf nodes\n",
    "        bootstrap=True,\n",
    "        oob_score=True,   # estimate Out-of-Bag RMSE\n",
    "        n_jobs=multiprocessing.cpu_count() - 2,   # paralellize over all CPU cores but 2\n",
    "        random_state=RANDOM_SEED,\n",
    "        verbose=0,\n",
    "        warm_start=False)"
   ]
  },
  {
   "cell_type": "markdown",
   "metadata": {},
   "source": [
    "## Random Forest with 2 Predictors"
   ]
  },
  {
   "cell_type": "code",
   "execution_count": 25,
   "metadata": {
    "collapsed": false
   },
   "outputs": [
    {
     "data": {
      "text/plain": [
       "RandomForestRegressor(bootstrap=True, criterion='mse', max_depth=None,\n",
       "           max_features='auto', max_leaf_nodes=None, min_samples_leaf=30,\n",
       "           min_samples_split=60, min_weight_fraction_leaf=0.0,\n",
       "           n_estimators=300, n_jobs=2, oob_score=True, random_state=99,\n",
       "           verbose=0, warm_start=False)"
      ]
     },
     "execution_count": 25,
     "metadata": {},
     "output_type": "execute_result"
    }
   ],
   "source": [
    "rf_model.fit(\n",
    "    X=used_cars_train_df[['mileage', 'year']],\n",
    "    y=used_cars_train_df.price)"
   ]
  },
  {
   "cell_type": "markdown",
   "metadata": {},
   "source": [
    "The estimated OOB RMSE of this Random Forest Model is:"
   ]
  },
  {
   "cell_type": "code",
   "execution_count": 27,
   "metadata": {
    "collapsed": false
   },
   "outputs": [
    {
     "data": {
      "text/plain": [
       "5395.4169888935658"
      ]
     },
     "execution_count": 27,
     "metadata": {},
     "output_type": "execute_result"
    }
   ],
   "source": [
    "# note that the \"oob_score_\" provided by SciKit is the estimated Out-of-Bag R^2\n",
    "# from R^2 we can derive a rough RMSE\n",
    "numpy.sqrt(used_cars_train_df['price'].var() * (1 - rf_model.oob_score_))"
   ]
  },
  {
   "cell_type": "markdown",
   "metadata": {},
   "source": [
    "The Test-set OOS RMSE is:"
   ]
  },
  {
   "cell_type": "code",
   "execution_count": 28,
   "metadata": {
    "collapsed": false
   },
   "outputs": [
    {
     "data": {
      "text/plain": [
       "5234.5403545179061"
      ]
     },
     "execution_count": 28,
     "metadata": {},
     "output_type": "execute_result"
    }
   ],
   "source": [
    "rmse(y_hat=rf_model.predict(used_cars_test_df[['mileage', 'year']]),\n",
    "     y=used_cars_test_df.price)"
   ]
  },
  {
   "cell_type": "markdown",
   "metadata": {},
   "source": [
    "## Random Forest with Many Predictors"
   ]
  },
  {
   "cell_type": "code",
   "execution_count": 29,
   "metadata": {
    "collapsed": true
   },
   "outputs": [],
   "source": [
    "predictor_names = \\\n",
    "    ['trim', 'isOneOwner', 'mileage', 'year', 'color',\n",
    "     'displacement', 'fuel', 'region', 'soundSystem', 'wheelType']"
   ]
  },
  {
   "cell_type": "code",
   "execution_count": 30,
   "metadata": {
    "collapsed": false
   },
   "outputs": [
    {
     "data": {
      "text/plain": [
       "RandomForestRegressor(bootstrap=True, criterion='mse', max_depth=None,\n",
       "           max_features='auto', max_leaf_nodes=None, min_samples_leaf=30,\n",
       "           min_samples_split=60, min_weight_fraction_leaf=0.0,\n",
       "           n_estimators=300, n_jobs=2, oob_score=True, random_state=99,\n",
       "           verbose=0, warm_start=False)"
      ]
     },
     "execution_count": 30,
     "metadata": {},
     "output_type": "execute_result"
    }
   ],
   "source": [
    "rf_model.fit(\n",
    "    X=pandas.get_dummies(\n",
    "        used_cars_train_df[predictor_names]),\n",
    "    y=used_cars_train_df.price)\n",
    "    # (GET_DUMMIES expands the categorical variables)"
   ]
  },
  {
   "cell_type": "markdown",
   "metadata": {
    "collapsed": true
   },
   "source": [
    "The estimated OOB RMSE of this Random Forest Model is:"
   ]
  },
  {
   "cell_type": "code",
   "execution_count": 32,
   "metadata": {
    "collapsed": false
   },
   "outputs": [
    {
     "data": {
      "text/plain": [
       "4498.1062890751618"
      ]
     },
     "execution_count": 32,
     "metadata": {},
     "output_type": "execute_result"
    }
   ],
   "source": [
    "# note that the \"oob_score_\" provided by SciKit is the estimated Out-of-Bag R^2\n",
    "# from R^2 we can derive a rough RMSE\n",
    "numpy.sqrt(used_cars_train_df['price'].var() * (1 - rf_model.oob_score_))"
   ]
  },
  {
   "cell_type": "markdown",
   "metadata": {
    "collapsed": true
   },
   "source": [
    "The Test-set OOS RMSE is:"
   ]
  },
  {
   "cell_type": "code",
   "execution_count": 33,
   "metadata": {
    "collapsed": false
   },
   "outputs": [
    {
     "data": {
      "text/plain": [
       "4469.8265582407212"
      ]
     },
     "execution_count": 33,
     "metadata": {},
     "output_type": "execute_result"
    }
   ],
   "source": [
    "rmse(y_hat=rf_model.predict(pandas.get_dummies(used_cars_test_df[predictor_names])),\n",
    "     y=used_cars_test_df.price)"
   ]
  },
  {
   "cell_type": "markdown",
   "metadata": {},
   "source": [
    "# Boosted Trees models"
   ]
  },
  {
   "cell_type": "code",
   "execution_count": 34,
   "metadata": {
    "collapsed": true
   },
   "outputs": [],
   "source": [
    "B = 1000\n",
    "\n",
    "boost_model = \\\n",
    "    GradientBoostingRegressor(\n",
    "        n_estimators=B,\n",
    "        loss='ls',   # Least-Squares objective loss function\n",
    "        learning_rate=.01,   # shrinkage parameter\n",
    "        subsample=1.0,\n",
    "        min_samples_split=200,\n",
    "        min_samples_leaf=100,\n",
    "        min_weight_fraction_leaf=0.0,\n",
    "        max_depth=10,   # maximum tree depth / number of levels of interaction\n",
    "        init=None,\n",
    "        random_state=RANDOM_SEED,\n",
    "        max_features=None,   # number of features to consider when looking for the best split; None: max_features=n_features\n",
    "        alpha=0.9,   # NOT RELEVANT for Least-Squares loss function\n",
    "        verbose=0,\n",
    "        max_leaf_nodes=None,   # None: unlimited number of leaf nodes\n",
    "        warm_start=False)"
   ]
  },
  {
   "cell_type": "markdown",
   "metadata": {},
   "source": [
    "## Boosted Trees with 2 Predictors"
   ]
  },
  {
   "cell_type": "markdown",
   "metadata": {},
   "source": [
    "Based on the Training set, a Boosted Trees ensemble with 2 predictors has the following estimated OOS RSME:"
   ]
  },
  {
   "cell_type": "code",
   "execution_count": 36,
   "metadata": {
    "collapsed": false
   },
   "outputs": [
    {
     "data": {
      "text/plain": [
       "5403.4564884785932"
      ]
     },
     "execution_count": 36,
     "metadata": {},
     "output_type": "execute_result"
    }
   ],
   "source": [
    "def mse_score(estimator, X, y):\n",
    "    y_hat = estimator.predict(X)\n",
    "    return mse(y_hat, y)\n",
    "\n",
    "numpy.sqrt(\n",
    "    cross_val_score(\n",
    "        boost_model,\n",
    "        X=used_cars_train_df[['mileage', 'year']],\n",
    "        y=used_cars_train_df.price,\n",
    "        cv=KFold(n=len(used_cars_train_df),\n",
    "                 n_folds=5,   # 5-fold cross validation\n",
    "                 shuffle=True),\n",
    "        scoring=mse_score).mean())"
   ]
  },
  {
   "cell_type": "markdown",
   "metadata": {},
   "source": [
    "And the Test-set OOS RMSE is:"
   ]
  },
  {
   "cell_type": "code",
   "execution_count": 20,
   "metadata": {
    "collapsed": false
   },
   "outputs": [
    {
     "data": {
      "text/plain": [
       "5229.3123880159728"
      ]
     },
     "execution_count": 20,
     "metadata": {},
     "output_type": "execute_result"
    }
   ],
   "source": [
    "boost_model.fit(\n",
    "    X=used_cars_train_df[['mileage', 'year']],\n",
    "    y=used_cars_train_df.price)\n",
    "\n",
    "rmse(y_hat=boost_model.predict(used_cars_test_df[['mileage', 'year']]),\n",
    "     y=used_cars_test_df.price)"
   ]
  },
  {
   "cell_type": "markdown",
   "metadata": {
    "collapsed": false
   },
   "source": [
    "## Boosted Trees with Many Predictors"
   ]
  },
  {
   "cell_type": "markdown",
   "metadata": {
    "collapsed": true
   },
   "source": [
    "Based on the Training set, a Boosted Trees ensemble with many predictors has the following estimated OOS RSME:"
   ]
  },
  {
   "cell_type": "code",
   "execution_count": 37,
   "metadata": {
    "collapsed": false
   },
   "outputs": [
    {
     "data": {
      "text/plain": [
       "4160.4750471882962"
      ]
     },
     "execution_count": 37,
     "metadata": {},
     "output_type": "execute_result"
    }
   ],
   "source": [
    "numpy.sqrt(\n",
    "    cross_val_score(\n",
    "        boost_model,\n",
    "        X=pandas.get_dummies(used_cars_train_df[predictor_names]),\n",
    "        y=used_cars_train_df.price,\n",
    "        cv=KFold(n=len(used_cars_train_df),\n",
    "                 n_folds=5,   # 5-fold cross validation\n",
    "                 shuffle=True),\n",
    "        scoring=mse_score).mean())"
   ]
  },
  {
   "cell_type": "markdown",
   "metadata": {},
   "source": [
    "And the Test-set OOS RMSE is:"
   ]
  },
  {
   "cell_type": "code",
   "execution_count": 38,
   "metadata": {
    "collapsed": false
   },
   "outputs": [
    {
     "data": {
      "text/plain": [
       "4092.6074245786417"
      ]
     },
     "execution_count": 38,
     "metadata": {},
     "output_type": "execute_result"
    }
   ],
   "source": [
    "boost_model.fit(\n",
    "    X=pandas.get_dummies(used_cars_train_df[predictor_names]),\n",
    "    y=used_cars_train_df.price)\n",
    "\n",
    "rmse(y_hat=boost_model.predict(pandas.get_dummies(used_cars_test_df[predictor_names])),\n",
    "     y=used_cars_test_df.price)"
   ]
  },
  {
   "cell_type": "markdown",
   "metadata": {},
   "source": [
    "Overall, this exercise shows the power of simple but extremely flexible trees-based methods such as Random Forest and Boosted Trees. When having many variables, all we have to do is to throw them into a trees ensemble!"
   ]
  },
  {
   "cell_type": "markdown",
   "metadata": {},
   "source": [
    "# _BONUS:_ Apache Spark solution"
   ]
  },
  {
   "cell_type": "code",
   "execution_count": 39,
   "metadata": {
    "collapsed": true
   },
   "outputs": [],
   "source": [
    "# Apache Spark settings\n",
    "if AWS_EMR_MODE:\n",
    "    SPARK_MODE = 'yarn-client'                 # running Spark on AWS EMR YARN cluster\n",
    "    SPARK_HOME = '/usr/lib/spark'              # default Spark installation folder on AWS EMR master node\n",
    "    SPARK_DRIVER_MEMORY = '9g'                 # memory allocated to MapReduce driver process\n",
    "    SPARK_EXECUTOR_MEMORY = '3g'               # memory allocated to each MapReduce executor process\n",
    "    SPARK_DRIVER_MAX_RESULT_SIZE = '6g'        # maximum size of objects collected back to MapReduce driver process\n",
    "else:\n",
    "    SPARK_MODE = 'local'                       # running Spark on single machine\n",
    "    SPARK_HOME = '/Applications/spark-1.5.2'   # Spark installation folder on my machine\n",
    "    SPARK_DRIVER_MEMORY = '5g'                 # memory allocated to MapReduce driver process \n",
    "    SPARK_EXECUTOR_MEMORY = '1g'               # memory allocated to each MapReduce executor process\n",
    "    SPARK_DRIVER_MAX_RESULT_SIZE = '3g'        # maximum size of objects collected back to MapReduce driver process"
   ]
  },
  {
   "cell_type": "code",
   "execution_count": 40,
   "metadata": {
    "collapsed": false
   },
   "outputs": [
    {
     "name": "stdout",
     "output_type": "stream",
     "text": [
      "('SparkContext:', <pyspark.context.SparkContext object at 0x7fdc61aef950>)\n",
      "('HiveContext:', <pyspark.sql.context.HiveContext object at 0x7fdc618ef550>)\n"
     ]
    }
   ],
   "source": [
    "if 'pyspark' not in vars():   # set up Apache Spark environment if not yet done so\n",
    "    \n",
    "    # set environment variables for Spark\n",
    "    os.environ['SPARK_HOME'] = SPARK_HOME\n",
    "    os.environ['SPARK_HIVE'] = 'true'\n",
    "    \n",
    "    # enable importing of PySpark through FindSpark package\n",
    "    import findspark\n",
    "    findspark.init()\n",
    "    \n",
    "    # import PySpark and set up SparkContext (\"sc\") & HiveContext (\"hc\")\n",
    "    import pyspark\n",
    "    \n",
    "    sc = pyspark.SparkContext(\n",
    "        conf=pyspark.SparkConf()\n",
    "            .setMaster(SPARK_MODE)\n",
    "            .setAppName('BostonHousing')\n",
    "            .set('spark.driver.memory', SPARK_DRIVER_MEMORY)\n",
    "            .set('spark.executor.memory', SPARK_EXECUTOR_MEMORY)\n",
    "            .set('spark.driver.maxResultSize', SPARK_DRIVER_MAX_RESULT_SIZE))\n",
    "    \n",
    "    hc = pyspark.sql.HiveContext(sc)\n",
    "    \n",
    "print('SparkContext:', sc)\n",
    "print('HiveContext:', hc)"
   ]
  },
  {
   "cell_type": "code",
   "execution_count": 46,
   "metadata": {
    "collapsed": true
   },
   "outputs": [],
   "source": [
    "# import from PySpark\n",
    "from pyspark.ml import Pipeline\n",
    "from pyspark.ml.feature import OneHotEncoder, StringIndexer, VectorAssembler, VectorIndexer\n",
    "from pyspark.ml.evaluation import RegressionEvaluator\n",
    "from pyspark.ml.regression import \\\n",
    "    GBTRegressor as SparkML_GBTRegressor, \\\n",
    "    RandomForestRegressor as SparkML_RandomForestRegressor\n",
    "from pyspark.ml.tuning import CrossValidator, ParamGridBuilder"
   ]
  },
  {
   "cell_type": "code",
   "execution_count": 42,
   "metadata": {
    "collapsed": false
   },
   "outputs": [
    {
     "name": "stdout",
     "output_type": "stream",
     "text": [
      "  % Total    % Received % Xferd  Average Speed   Time    Time     Time  Current\n",
      "                                 Dload  Upload   Total   Spent    Left  Speed\n",
      "100  5493  100  5493    0     0  10498      0 --:--:-- --:--:-- --:--:-- 10482\n"
     ]
    }
   ],
   "source": [
    "# download PySpark_CSV parser and put it into SparkContext\n",
    "!curl https://raw.githubusercontent.com/seahboonsiew/pyspark-csv/master/pyspark_csv.py --output pyspark_csv.py\n",
    "    \n",
    "sc.addPyFile('pyspark_csv.py')\n",
    "\n",
    "from pyspark_csv import csvToDataFrame"
   ]
  },
  {
   "cell_type": "code",
   "execution_count": 43,
   "metadata": {
    "collapsed": true
   },
   "outputs": [],
   "source": [
    "# download data\n",
    "os.system('curl %s --output %s' %(DATA_URL, DATA_FILE_NAME))\n",
    "\n",
    "if AWS_EMR_MODE:\n",
    "    os.system('hadoop fs -put %s %s' % (DATA_FILE_NAME, DATA_FILE_NAME))"
   ]
  },
  {
   "cell_type": "code",
   "execution_count": 44,
   "metadata": {
    "collapsed": false
   },
   "outputs": [
    {
     "name": "stdout",
     "output_type": "stream",
     "text": [
      "+-----+----+----------+-------+----+------+------------+--------+------+-----------+---------+\n",
      "|price|trim|isOneOwner|mileage|year| color|displacement|    fuel|region|soundSystem|wheelType|\n",
      "+-----+----+----------+-------+----+------+------------+--------+------+-----------+---------+\n",
      "| 2988| 320|         f| 193296|1995| Black|         3.2|Gasoline|   SoA|       unsp|    Alloy|\n",
      "| 6595| 320|         f| 129948|1995| other|         3.2|Gasoline|   Mid|    Premium|    Alloy|\n",
      "| 7993| 320|         f| 140428|1997| White|         3.2|Gasoline|   Mid|       Bose|    Alloy|\n",
      "| 5995| 420|         f| 113622|1999|Silver|         4.2|Gasoline|   Mid|       unsp|    Alloy|\n",
      "| 3000| 420|         f| 167673|1999|Silver|         4.2|Gasoline|   SoA|       unsp|    Alloy|\n",
      "| 7400| 430|         f|  82419|2002| White|         4.3|Gasoline|   Mid|       Bose|    Alloy|\n",
      "|10850| 430|         f| 101264|2000| White|         4.3|Gasoline|   SoA|       unsp|     unsp|\n",
      "| 8990| 430|         f| 110651|2001| Black|         4.3|Gasoline|   SoA|       unsp|    Alloy|\n",
      "| 7950| 430|         f| 108173|2000|Silver|         4.3|Gasoline|   ESC|       Bose|     unsp|\n",
      "+-----+----+----------+-------+----+------+------------+--------+------+-----------+---------+\n",
      "only showing top 9 rows\n",
      "\n"
     ]
    }
   ],
   "source": [
    "# parse data set\n",
    "used_cars_ddf = \\\n",
    "    csvToDataFrame(\n",
    "        sqlCtx=hc,\n",
    "        rdd=sc.textFile(DATA_FILE_NAME),\n",
    "        columns=None,\n",
    "        sep=',',\n",
    "        parseDate=True)\\\n",
    "    .cache()\n",
    "\n",
    "used_cars_ddf.registerTempTable('used_cars')\n",
    "\n",
    "used_cars_ddf.show(NB_EXAMPLES_TO_SHOW)"
   ]
  },
  {
   "cell_type": "code",
   "execution_count": 92,
   "metadata": {
    "collapsed": false
   },
   "outputs": [
    {
     "name": "stdout",
     "output_type": "stream",
     "text": [
      "root\n",
      " |-- price: integer (nullable = true)\n",
      " |-- trim: string (nullable = true)\n",
      " |-- isOneOwner: string (nullable = true)\n",
      " |-- mileage: integer (nullable = true)\n",
      " |-- year: integer (nullable = true)\n",
      " |-- color: string (nullable = true)\n",
      " |-- displacement: double (nullable = true)\n",
      " |-- fuel: string (nullable = true)\n",
      " |-- region: string (nullable = true)\n",
      " |-- soundSystem: string (nullable = true)\n",
      " |-- wheelType: string (nullable = true)\n",
      "\n"
     ]
    }
   ],
   "source": [
    "used_cars_ddf.printSchema()"
   ]
  },
  {
   "cell_type": "code",
   "execution_count": 109,
   "metadata": {
    "collapsed": true
   },
   "outputs": [],
   "source": [
    "predicted_var = 'price'\n",
    "\n",
    "numerical_features = \\\n",
    "    ['mileage',\n",
    "     'year',\n",
    "     'displacement']\n",
    "\n",
    "string_categorical_feature_names = \\\n",
    "    ['trim',\n",
    "     'isOneOwner',\n",
    "     'color',\n",
    "     'fuel',\n",
    "     'region',\n",
    "     'soundSystem',\n",
    "     'wheelType']"
   ]
  },
  {
   "cell_type": "code",
   "execution_count": 112,
   "metadata": {
    "collapsed": false
   },
   "outputs": [
    {
     "name": "stdout",
     "output_type": "stream",
     "text": [
      "root\n",
      " |-- price: double (nullable = true)\n",
      " |-- mileage: double (nullable = true)\n",
      " |-- year: double (nullable = true)\n",
      " |-- displacement: double (nullable = true)\n",
      " |-- trim: string (nullable = true)\n",
      " |-- isOneOwner: string (nullable = true)\n",
      " |-- color: string (nullable = true)\n",
      " |-- fuel: string (nullable = true)\n",
      " |-- region: string (nullable = true)\n",
      " |-- soundSystem: string (nullable = true)\n",
      " |-- wheelType: string (nullable = true)\n",
      "\n"
     ]
    }
   ],
   "source": [
    "# convert integer features to double\n",
    "used_cars_ddf = hc.sql(\n",
    "    \"SELECT \\\n",
    "        %s, \\\n",
    "        %s \\\n",
    "    FROM \\\n",
    "        used_cars\"\n",
    "    % (', '.join(['CAST(%s AS DOUBLE) AS %s' % (v, v)\n",
    "                  for v in [predicted_var] + numerical_features]),\n",
    "       ', '.join(string_categorical_feature_names)))\\\n",
    "    .cache()\n",
    "\n",
    "used_cars_ddf.registerTempTable('used_cars')\n",
    "\n",
    "used_cars_ddf.printSchema()"
   ]
  },
  {
   "cell_type": "code",
   "execution_count": 114,
   "metadata": {
    "collapsed": false
   },
   "outputs": [],
   "source": [
    "# split data into Train & Test sets\n",
    "used_cars_train_ddf, used_cars_test_ddf = \\\n",
    "    used_cars_ddf.randomSplit(\n",
    "        weights=[.5, .5],\n",
    "        seed=RANDOM_SEED)"
   ]
  },
  {
   "cell_type": "markdown",
   "metadata": {},
   "source": [
    "## Set up pipeline"
   ]
  },
  {
   "cell_type": "code",
   "execution_count": 115,
   "metadata": {
    "collapsed": false
   },
   "outputs": [
    {
     "name": "stdout",
     "output_type": "stream",
     "text": [
      "Pre-Processing for TRIM:\n",
      "+----+----------+--------------+\n",
      "|trim|trim___idx|    trim___ohe|\n",
      "+----+----------+--------------+\n",
      "| 320|       7.0|(10,[7],[1.0])|\n",
      "| 320|       7.0|(10,[7],[1.0])|\n",
      "| 320|       7.0|(10,[7],[1.0])|\n",
      "| 420|       8.0|(10,[8],[1.0])|\n",
      "| 420|       8.0|(10,[8],[1.0])|\n",
      "| 430|       1.0|(10,[1],[1.0])|\n",
      "| 430|       1.0|(10,[1],[1.0])|\n",
      "| 430|       1.0|(10,[1],[1.0])|\n",
      "| 430|       1.0|(10,[1],[1.0])|\n",
      "+----+----------+--------------+\n",
      "only showing top 9 rows\n",
      "\n",
      "Pre-Processing for ISONEOWNER:\n",
      "+----------+----------------+----------------+\n",
      "|isOneOwner|isOneOwner___idx|isOneOwner___ohe|\n",
      "+----------+----------------+----------------+\n",
      "|         f|             0.0|   (1,[0],[1.0])|\n",
      "|         f|             0.0|   (1,[0],[1.0])|\n",
      "|         f|             0.0|   (1,[0],[1.0])|\n",
      "|         f|             0.0|   (1,[0],[1.0])|\n",
      "|         f|             0.0|   (1,[0],[1.0])|\n",
      "|         f|             0.0|   (1,[0],[1.0])|\n",
      "|         f|             0.0|   (1,[0],[1.0])|\n",
      "|         f|             0.0|   (1,[0],[1.0])|\n",
      "|         f|             0.0|   (1,[0],[1.0])|\n",
      "+----------+----------------+----------------+\n",
      "only showing top 9 rows\n",
      "\n",
      "Pre-Processing for COLOR:\n",
      "+------+-----------+-------------+\n",
      "| color|color___idx|  color___ohe|\n",
      "+------+-----------+-------------+\n",
      "| Black|        0.0|(6,[0],[1.0])|\n",
      "| other|        4.0|(6,[4],[1.0])|\n",
      "| White|        2.0|(6,[2],[1.0])|\n",
      "|Silver|        1.0|(6,[1],[1.0])|\n",
      "|Silver|        1.0|(6,[1],[1.0])|\n",
      "| White|        2.0|(6,[2],[1.0])|\n",
      "| White|        2.0|(6,[2],[1.0])|\n",
      "| Black|        0.0|(6,[0],[1.0])|\n",
      "|Silver|        1.0|(6,[1],[1.0])|\n",
      "+------+-----------+-------------+\n",
      "only showing top 9 rows\n",
      "\n",
      "Pre-Processing for FUEL:\n",
      "+--------+----------+-------------+\n",
      "|    fuel|fuel___idx|   fuel___ohe|\n",
      "+--------+----------+-------------+\n",
      "|Gasoline|       0.0|(2,[0],[1.0])|\n",
      "|Gasoline|       0.0|(2,[0],[1.0])|\n",
      "|Gasoline|       0.0|(2,[0],[1.0])|\n",
      "|Gasoline|       0.0|(2,[0],[1.0])|\n",
      "|Gasoline|       0.0|(2,[0],[1.0])|\n",
      "|Gasoline|       0.0|(2,[0],[1.0])|\n",
      "|Gasoline|       0.0|(2,[0],[1.0])|\n",
      "|Gasoline|       0.0|(2,[0],[1.0])|\n",
      "|Gasoline|       0.0|(2,[0],[1.0])|\n",
      "+--------+----------+-------------+\n",
      "only showing top 9 rows\n",
      "\n",
      "Pre-Processing for REGION:\n",
      "+------+------------+-------------+\n",
      "|region|region___idx| region___ohe|\n",
      "+------+------------+-------------+\n",
      "|   SoA|         0.0|(8,[0],[1.0])|\n",
      "|   Mid|         2.0|(8,[2],[1.0])|\n",
      "|   Mid|         2.0|(8,[2],[1.0])|\n",
      "|   Mid|         2.0|(8,[2],[1.0])|\n",
      "|   SoA|         0.0|(8,[0],[1.0])|\n",
      "|   Mid|         2.0|(8,[2],[1.0])|\n",
      "|   SoA|         0.0|(8,[0],[1.0])|\n",
      "|   SoA|         0.0|(8,[0],[1.0])|\n",
      "|   ESC|         6.0|(8,[6],[1.0])|\n",
      "+------+------------+-------------+\n",
      "only showing top 9 rows\n",
      "\n",
      "Pre-Processing for SOUNDSYSTEM:\n",
      "+-----------+-----------------+-----------------+\n",
      "|soundSystem|soundSystem___idx|soundSystem___ohe|\n",
      "+-----------+-----------------+-----------------+\n",
      "|       unsp|              0.0|    (4,[0],[1.0])|\n",
      "|    Premium|              1.0|    (4,[1],[1.0])|\n",
      "|       Bose|              3.0|    (4,[3],[1.0])|\n",
      "|       unsp|              0.0|    (4,[0],[1.0])|\n",
      "|       unsp|              0.0|    (4,[0],[1.0])|\n",
      "|       Bose|              3.0|    (4,[3],[1.0])|\n",
      "|       unsp|              0.0|    (4,[0],[1.0])|\n",
      "|       unsp|              0.0|    (4,[0],[1.0])|\n",
      "|       Bose|              3.0|    (4,[3],[1.0])|\n",
      "+-----------+-----------------+-----------------+\n",
      "only showing top 9 rows\n",
      "\n",
      "Pre-Processing for WHEELTYPE:\n",
      "+---------+---------------+---------------+\n",
      "|wheelType|wheelType___idx|wheelType___ohe|\n",
      "+---------+---------------+---------------+\n",
      "|    Alloy|            0.0|  (3,[0],[1.0])|\n",
      "|    Alloy|            0.0|  (3,[0],[1.0])|\n",
      "|    Alloy|            0.0|  (3,[0],[1.0])|\n",
      "|    Alloy|            0.0|  (3,[0],[1.0])|\n",
      "|    Alloy|            0.0|  (3,[0],[1.0])|\n",
      "|    Alloy|            0.0|  (3,[0],[1.0])|\n",
      "|     unsp|            1.0|  (3,[1],[1.0])|\n",
      "|    Alloy|            0.0|  (3,[0],[1.0])|\n",
      "|     unsp|            1.0|  (3,[1],[1.0])|\n",
      "+---------+---------------+---------------+\n",
      "only showing top 9 rows\n",
      "\n"
     ]
    }
   ],
   "source": [
    "string_categorical_indexed_feature_names = []\n",
    "string_categorical_feature_string_indexers = {}\n",
    "\n",
    "string_categorical_one_hot_encoded_feature_names = []\n",
    "string_categorical_feature_one_hot_encoders = {}\n",
    "\n",
    "for feature_name in string_categorical_feature_names:\n",
    "    \n",
    "    string_indexed_feature_name = '%s___idx' % feature_name\n",
    "    string_categorical_indexed_feature_names.append(string_indexed_feature_name)\n",
    "    string_indexer = \\\n",
    "        StringIndexer(\n",
    "            inputCol=feature_name,\n",
    "            outputCol=string_indexed_feature_name)\\\n",
    "        .fit(dataset=used_cars_ddf)\n",
    "    string_categorical_feature_string_indexers[feature_name] = \\\n",
    "        string_indexer\n",
    "    \n",
    "    one_hot_encoded_feature_name = '%s___ohe' % feature_name\n",
    "    string_categorical_one_hot_encoded_feature_names.append(one_hot_encoded_feature_name)\n",
    "    one_hot_encoder = \\\n",
    "        OneHotEncoder(        \n",
    "            inputCol=string_indexed_feature_name,\n",
    "            outputCol=one_hot_encoded_feature_name)\n",
    "    string_categorical_feature_one_hot_encoders[feature_name] = \\\n",
    "        one_hot_encoder\n",
    "        \n",
    "    print('Pre-Processing for %s:' % feature_name.upper())\n",
    "    one_hot_encoder.transform(\n",
    "        string_indexer.transform(used_cars_ddf))\\\n",
    "    .select(feature_name,\n",
    "            string_indexed_feature_name,\n",
    "            one_hot_encoded_feature_name)\\\n",
    "    .show(NB_EXAMPLES_TO_SHOW)"
   ]
  },
  {
   "cell_type": "code",
   "execution_count": 117,
   "metadata": {
    "collapsed": false
   },
   "outputs": [],
   "source": [
    "feature_vector_assembler = \\\n",
    "    VectorAssembler(\n",
    "        inputCols=\n",
    "            string_categorical_one_hot_encoded_feature_names +\n",
    "            ['mileage', 'year', 'displacement'],\n",
    "        outputCol='used_car_features')"
   ]
  },
  {
   "cell_type": "code",
   "execution_count": 120,
   "metadata": {
    "collapsed": true
   },
   "outputs": [],
   "source": [
    "regression_evaluator = \\\n",
    "    RegressionEvaluator(\n",
    "        predictionCol='predicted_price',\n",
    "        labelCol='price',\n",
    "        metricName='rmse')"
   ]
  },
  {
   "cell_type": "markdown",
   "metadata": {},
   "source": [
    "## Set up and train Regressors"
   ]
  },
  {
   "cell_type": "code",
   "execution_count": 118,
   "metadata": {
    "collapsed": false
   },
   "outputs": [],
   "source": [
    "rf_regressor = \\\n",
    "    SparkML_RandomForestRegressor(\n",
    "        featuresCol='used_car_features',\n",
    "        labelCol='price',\n",
    "        predictionCol='predicted_price',\n",
    "        maxDepth=9,\n",
    "        maxBins=32,\n",
    "        minInstancesPerNode=1,\n",
    "        minInfoGain=0.,\n",
    "        maxMemoryInMB=256,\n",
    "        cacheNodeIds=False,\n",
    "        checkpointInterval=10,\n",
    "        seed=None,\n",
    "        impurity='variance',\n",
    "        numTrees=900,\n",
    "        featureSubsetStrategy='auto')\n",
    "\n",
    "# create Pipeline Estimator\n",
    "rf_pipeline_estimator = \\\n",
    "    Pipeline(\n",
    "        stages=\n",
    "            string_categorical_feature_string_indexers.values() +\n",
    "            string_categorical_feature_one_hot_encoders.values() +    \n",
    "            [feature_vector_assembler, rf_regressor])"
   ]
  },
  {
   "cell_type": "code",
   "execution_count": 119,
   "metadata": {
    "collapsed": false
   },
   "outputs": [],
   "source": [
    "# train Random Forest model\n",
    "rf_pipeline_model = \\\n",
    "    rf_pipeline_estimator.fit(\n",
    "        dataset=used_cars_train_ddf)"
   ]
  },
  {
   "cell_type": "code",
   "execution_count": 122,
   "metadata": {
    "collapsed": false
   },
   "outputs": [
    {
     "data": {
      "text/plain": [
       "4292.946201559255"
      ]
     },
     "execution_count": 122,
     "metadata": {},
     "output_type": "execute_result"
    }
   ],
   "source": [
    "# test-set Random Forest error\n",
    "regression_evaluator.evaluate(\n",
    "    rf_pipeline_model.transform(used_cars_test_ddf))"
   ]
  },
  {
   "cell_type": "markdown",
   "metadata": {},
   "source": [
    "and Gradient Boosted Trees Regression model can be built & evaluated similarly..."
   ]
  }
 ],
 "metadata": {
  "kernelspec": {
   "display_name": "Python 2",
   "language": "python",
   "name": "python2"
  },
  "language_info": {
   "codemirror_mode": {
    "name": "ipython",
    "version": 2
   },
   "file_extension": ".py",
   "mimetype": "text/x-python",
   "name": "python",
   "nbconvert_exporter": "python",
   "pygments_lexer": "ipython2",
   "version": "2.7.10"
  }
 },
 "nbformat": 4,
 "nbformat_minor": 0
}
